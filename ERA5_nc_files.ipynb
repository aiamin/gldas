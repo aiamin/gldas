{
 "cells": [
  {
   "cell_type": "markdown",
   "id": "e74ec621",
   "metadata": {},
   "source": [
    "# Importing data from ERA5 nc files"
   ]
  },
  {
   "cell_type": "markdown",
   "id": "91d84eba",
   "metadata": {},
   "source": [
    "#### Necessary libraries"
   ]
  },
  {
   "cell_type": "code",
   "execution_count": null,
   "id": "5f945875",
   "metadata": {},
   "outputs": [],
   "source": [
    "from netCDF4 import Dataset\n",
    "import pandas as pd\n",
    "from datetime import date, timedelta"
   ]
  },
  {
   "cell_type": "markdown",
   "id": "bf835c06",
   "metadata": {},
   "source": [
    "#### Import nc file"
   ]
  },
  {
   "cell_type": "code",
   "execution_count": null,
   "id": "8e00ea18",
   "metadata": {},
   "outputs": [],
   "source": [
    "path = \"F:/ERA5/ERA.nc\"\n",
    "ds = Dataset(path, 'r')"
   ]
  },
  {
   "cell_type": "markdown",
   "id": "5f862a2c",
   "metadata": {},
   "source": [
    "#### Coordinates of ground stations"
   ]
  },
  {
   "cell_type": "code",
   "execution_count": null,
   "id": "0439a4d0",
   "metadata": {},
   "outputs": [],
   "source": [
    "input_latlon = {35.818:51.781,\n",
    "                35.864:51.658,\n",
    "                35.896:51.6,\n",
    "                35.935:51.434,\n",
    "                35.953:51.364,\n",
    "                35.985:51.639,\n",
    "                35.999:50.983,\n",
    "                36.026:51.513,\n",
    "                36.034:51.423,\n",
    "                36.064:51.126,\n",
    "                36.08:51.324,\n",
    "                36.105:51.311,\n",
    "                36.14:50.688,\n",
    "                36.146:50.749,\n",
    "                36.177:50.909,\n",
    "                36.195:50.898,\n",
    "                36.21:50.767,\n",
    "                36.226:50.956}"
   ]
  },
  {
   "cell_type": "markdown",
   "id": "e3a50526",
   "metadata": {},
   "source": [
    "#### Import data from nc file"
   ]
  },
  {
   "cell_type": "code",
   "execution_count": null,
   "id": "629e29f1",
   "metadata": {},
   "outputs": [],
   "source": [
    "#Change it to name of variable you want to save.\n",
    "#Check inside of nc file for the available variables.\n",
    "ds_sw = ds['sd'][:]\n",
    "\n",
    "ds_lat = ds['latitude'][:]\n",
    "ds_lon = ds['longitude'][:]\n",
    "ds_time = ds['time'][:]\n",
    "list_time = ds_time.data.tolist()\n",
    "          \n",
    "time_table = []\n",
    "lat_table = []\n",
    "lon_table = []\n",
    "sw_table = []\n",
    "\n",
    "base = date(1900, 1, 1)"
   ]
  },
  {
   "cell_type": "markdown",
   "id": "8f37dcde",
   "metadata": {},
   "source": [
    "#### Main body of code"
   ]
  },
  {
   "cell_type": "code",
   "execution_count": null,
   "id": "867f93c2",
   "metadata": {},
   "outputs": [],
   "source": [
    "for t in list_time:\n",
    "    for key in input_latlon:\n",
    "        \n",
    "        final_time = base + timedelta(hours=t)\n",
    "        time_table.append(final_time)    \n",
    "        \n",
    "        lat_table.append(key)\n",
    "        lon_table.append(input_latlon[key])\n",
    "\n",
    "        sq_diff_lat = (ds_lat - key)**2\n",
    "        sq_diff_lon = (ds_lon - input_latlon[key])**2\n",
    "\n",
    "        min_index_lat = sq_diff_lat.argmin()\n",
    "        min_index_lon = sq_diff_lon.argmin()\n",
    "\n",
    "        sw = ds_sw[list_time.index(t), min_index_lat ,min_index_lon]\n",
    "        sw_table.append(sw)"
   ]
  },
  {
   "cell_type": "markdown",
   "id": "4da12b67",
   "metadata": {},
   "source": [
    "#### Check the lenght of tables"
   ]
  },
  {
   "cell_type": "code",
   "execution_count": null,
   "id": "4230204f",
   "metadata": {},
   "outputs": [],
   "source": [
    "print(len(time_table))\n",
    "print(len(lat_table))\n",
    "print(len(lon_table))\n",
    "print(len(sw_table))"
   ]
  },
  {
   "cell_type": "markdown",
   "id": "618c05f4",
   "metadata": {},
   "source": [
    "#### Merge all data to a DataFrame"
   ]
  },
  {
   "cell_type": "code",
   "execution_count": null,
   "id": "f08f00e6",
   "metadata": {
    "scrolled": true
   },
   "outputs": [],
   "source": [
    "all_table = {'Time':time_table[:],\n",
    "             'Lat':lat_table[:],\n",
    "             'Lon':lon_table[:],\n",
    "            'SWE':sw_table[:]}\n",
    "\n",
    "final_ds = pd.DataFrame(all_table)\n",
    "final_ds[\"Time\"] = pd.to_datetime(final_ds[\"Time\"])"
   ]
  },
  {
   "cell_type": "markdown",
   "id": "95993ee6",
   "metadata": {},
   "source": [
    "#### Means of daily values"
   ]
  },
  {
   "cell_type": "code",
   "execution_count": null,
   "id": "245b6edd",
   "metadata": {},
   "outputs": [],
   "source": [
    "final_ds_group = final_ds.groupby(['Time','Lat','Lon'])['sw'].mean().reset_index()"
   ]
  },
  {
   "cell_type": "markdown",
   "id": "021599b6",
   "metadata": {},
   "source": [
    "#### Export DataFrame to a Excel file"
   ]
  },
  {
   "cell_type": "code",
   "execution_count": null,
   "id": "b3d88eae",
   "metadata": {},
   "outputs": [],
   "source": [
    "final_ds_group.to_excel(\"f:/era5_ds.xlsx\",index=False)"
   ]
  }
 ],
 "metadata": {
  "kernelspec": {
   "display_name": "Python 3 (ipykernel)",
   "language": "python",
   "name": "python3"
  },
  "language_info": {
   "codemirror_mode": {
    "name": "ipython",
    "version": 3
   },
   "file_extension": ".py",
   "mimetype": "text/x-python",
   "name": "python",
   "nbconvert_exporter": "python",
   "pygments_lexer": "ipython3",
   "version": "3.8.11"
  }
 },
 "nbformat": 4,
 "nbformat_minor": 5
}
