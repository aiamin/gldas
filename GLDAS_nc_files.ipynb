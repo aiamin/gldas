{
 "cells": [
  {
   "cell_type": "markdown",
   "id": "ec0915bb",
   "metadata": {},
   "source": [
    "# Importing data from GLDAS nc files"
   ]
  },
  {
   "cell_type": "markdown",
   "id": "6f253408",
   "metadata": {},
   "source": [
    "#### Necessary libraries"
   ]
  },
  {
   "cell_type": "code",
   "execution_count": null,
   "id": "5f945875",
   "metadata": {},
   "outputs": [],
   "source": [
    "import pandas as pd\n",
    "from netCDF4 import Dataset\n",
    "import glob\n",
    "import re"
   ]
  },
  {
   "cell_type": "markdown",
   "id": "f41bc2ae",
   "metadata": {},
   "source": [
    "#### Coordinates of ground stations"
   ]
  },
  {
   "cell_type": "code",
   "execution_count": null,
   "id": "b9cd42b4",
   "metadata": {},
   "outputs": [],
   "source": [
    "input_latlon = {35.818:51.781,\n",
    "                35.864:51.658,\n",
    "                35.896:51.6,\n",
    "                35.935:51.434,\n",
    "                35.953:51.364,\n",
    "                35.985:51.639,\n",
    "                35.999:50.983,\n",
    "                36.026:51.513,\n",
    "                36.034:51.423,\n",
    "                36.064:51.126,\n",
    "                36.08:51.324,\n",
    "                36.105:51.311,\n",
    "                36.14:50.688,\n",
    "                36.146:50.749,\n",
    "                36.177:50.909,\n",
    "                36.195:50.898,\n",
    "                36.21:50.767,\n",
    "                36.226:50.956}"
   ]
  },
  {
   "cell_type": "markdown",
   "id": "bbfb6e86",
   "metadata": {},
   "source": [
    "#### Main body of code"
   ]
  },
  {
   "cell_type": "code",
   "execution_count": null,
   "id": "890ce71a",
   "metadata": {},
   "outputs": [],
   "source": [
    "time_table = []\n",
    "lat_table = []\n",
    "lon_table = []\n",
    "sw_table = []\n",
    "\n",
    "\n",
    "# Change it to nc files's folder\n",
    "for file in glob.glob('F:/GLDAS/*.nc4'):\n",
    "\n",
    "    for key in input_latlon:\n",
    "        \n",
    "        # Extract time from file names. (\\d+) is where the time is.\n",
    "        #Change before and after of (\\d+), according to file names.\n",
    "        res = re.findall(\"GLDAS_CLSM025_DA1_D.A(\\d+).022.nc4.SUB\",file)\n",
    "        \n",
    "        time_table.append(res[0])\n",
    "    \n",
    "        ds = Dataset(file, 'r')\n",
    "        \n",
    "        ds_lat = ds['lat'][:]\n",
    "        ds_lon = ds['lon'][:]\n",
    "        \n",
    "        #Change it to name of variable you want to save.\n",
    "        #Check inside of nc file for the available variables.\n",
    "        SWE = ds['SWE_tavg'][:]\n",
    "        \n",
    "        \n",
    "        lat_table.append(key)\n",
    "        lon_table.append(input_latlon[key])\n",
    "        \n",
    "        sq_diff_lat = (ds_lat - key)**2\n",
    "        sq_diff_lon = (ds_lon - input_latlon[key])**2\n",
    "        \n",
    "        min_index_lat = sq_diff_lat.argmin()\n",
    "        min_index_lon = sq_diff_lon.argmin()\n",
    "        \n",
    "        sw = SWE[0, min_index_lat ,min_index_lon]\n",
    "        sw_table.append(sw)"
   ]
  },
  {
   "cell_type": "markdown",
   "id": "7f9d8644",
   "metadata": {},
   "source": [
    "#### Merge all data to a DataFrame"
   ]
  },
  {
   "cell_type": "code",
   "execution_count": null,
   "id": "f08f00e6",
   "metadata": {
    "scrolled": true
   },
   "outputs": [],
   "source": [
    "all_table = {'Time':time_table[:],\n",
    "             'Lat':lat_table[:],\n",
    "             'Lon':lon_table[:],\n",
    "            'SWE':sw_table[:]}\n",
    "\n",
    "final_ds = pd.DataFrame(all_table)\n",
    "final_ds[\"Time\"] = pd.to_datetime(final_ds[\"Time\"])"
   ]
  },
  {
   "cell_type": "markdown",
   "id": "c84b63fd",
   "metadata": {},
   "source": [
    "#### Export DataFrame to a Excel file"
   ]
  },
  {
   "cell_type": "code",
   "execution_count": null,
   "id": "b3d88eae",
   "metadata": {},
   "outputs": [],
   "source": [
    "final_ds.to_excel(\"f:/gldas_ds.xlsx\",index=False)"
   ]
  }
 ],
 "metadata": {
  "kernelspec": {
   "display_name": "Python 3 (ipykernel)",
   "language": "python",
   "name": "python3"
  },
  "language_info": {
   "codemirror_mode": {
    "name": "ipython",
    "version": 3
   },
   "file_extension": ".py",
   "mimetype": "text/x-python",
   "name": "python",
   "nbconvert_exporter": "python",
   "pygments_lexer": "ipython3",
   "version": "3.8.11"
  }
 },
 "nbformat": 4,
 "nbformat_minor": 5
}
